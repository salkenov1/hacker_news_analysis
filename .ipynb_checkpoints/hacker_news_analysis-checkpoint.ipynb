{
 "cells": [
  {
   "cell_type": "markdown",
   "metadata": {},
   "source": [
    "# Exploring Hacker News\n",
    "**About Hacker News**\n",
    "\n",
    "Hacker News is a social news website focusing on computer science and entrepreneurship. It is run by Paul Graham's investment fund and startup incubator, Y Combinator. In general, content that can be submitted is defined as \"anything that gratifies one's intellectual curiosity\".\n",
    "\n",
    "Let's open the file and exlore data a little bit"
   ]
  },
  {
   "cell_type": "code",
   "execution_count": 1,
   "metadata": {},
   "outputs": [
    {
     "name": "stdout",
     "output_type": "stream",
     "text": [
      "['id', 'title', 'url', 'num_points', 'num_comments', 'author', 'created_at']\n",
      "\n",
      "\n",
      "[['12579008', 'You have two days to comment if you want stem cells to be classified as your own', 'http://www.regulations.gov/document?D=FDA-2015-D-3719-0018', '1', '0', 'altstar', '9/26/2016 3:26'], ['12579005', 'SQLAR  the SQLite Archiver', 'https://www.sqlite.org/sqlar/doc/trunk/README.md', '1', '0', 'blacksqr', '9/26/2016 3:24'], ['12578997', 'What if we just printed a flatscreen television on the side of our boxes?', 'https://medium.com/vanmoof/our-secrets-out-f21c1f03fdc8#.ietxmez43', '1', '0', 'pavel_lishin', '9/26/2016 3:19'], ['12578989', 'algorithmic music', 'http://cacm.acm.org/magazines/2011/7/109891-algorithmic-composition/fulltext', '1', '0', 'poindontcare', '9/26/2016 3:16'], ['12578979', 'How the Data Vault Enables the Next-Gen Data Warehouse and Data Lake', 'https://www.talend.com/blog/2016/05/12/talend-and-Â\\x93the-data-vaultÂ\\x94', '1', '0', 'markgainor1', '9/26/2016 3:14']]\n"
     ]
    }
   ],
   "source": [
    "opened_file = open(\"hacker_news.csv\", encoding=\"utf8-\")\n",
    "from csv import reader\n",
    "read_file = reader(opened_file)\n",
    "data = list(read_file)\n",
    "hn_header = data[0]\n",
    "hn = data[1:]\n",
    "\n",
    "print(hn_header)\n",
    "print('\\n')\n",
    "print(hn[:5])"
   ]
  },
  {
   "cell_type": "markdown",
   "metadata": {},
   "source": [
    "**We're specifically interested in posts whose titles begin with either Ask HN or Show HN. Users submit Ask HN posts to ask the Hacker News community a specific question.**\n",
    "\n",
    "We'll compare these two types of posts to determine the following:\n",
    "\n",
    "- Do Ask HN or Show HN receive more comments on average?\n",
    "- Do posts created at a certain time receive more comments on average?\n",
    "\n",
    "Let's use these methods (*lower()* and *startswith()*) to separate posts beginning with Ask HN and Show HN (and case variations) into two different lists next."
   ]
  },
  {
   "cell_type": "code",
   "execution_count": 2,
   "metadata": {},
   "outputs": [
    {
     "name": "stdout",
     "output_type": "stream",
     "text": [
      "9139\n",
      "10158\n",
      "273822\n"
     ]
    }
   ],
   "source": [
    "asks_posts = []\n",
    "show_posts = []\n",
    "other_posts = []\n",
    "\n",
    "for row in hn:\n",
    "    title = row[1]\n",
    "    title = title.lower()\n",
    "    if title.startswith(\"ask hn\"):\n",
    "        asks_posts.append(row)\n",
    "    elif title.startswith(\"show hn\"):\n",
    "        show_posts.append(row)\n",
    "    else:\n",
    "        other_posts.append(row)\n",
    "print(len(asks_posts))\n",
    "print(len(show_posts))\n",
    "print(len(other_posts))"
   ]
  },
  {
   "cell_type": "markdown",
   "metadata": {},
   "source": [
    "As shown above, the number of asks_posts = 9139 while the number of show_posts = 10158\n",
    "\n",
    "Now, we will find the average number of comments for both types of posts and determine which one has more comments"
   ]
  },
  {
   "cell_type": "code",
   "execution_count": 3,
   "metadata": {},
   "outputs": [
    {
     "name": "stdout",
     "output_type": "stream",
     "text": [
      "Average number of ASK comments is 10.393478498741656\n",
      "Average number of SHOW comments is 4.886099625910612\n"
     ]
    }
   ],
   "source": [
    "total_ask_comments = 0\n",
    "total_show_comments = 0\n",
    "for row in asks_posts:\n",
    "    num_comments = int(row[4])\n",
    "    total_ask_comments += num_comments\n",
    "for row in show_posts:\n",
    "    num_comments = int(row[4])\n",
    "    total_show_comments += num_comments\n",
    "avg_ask_comments = total_ask_comments/len(asks_posts)\n",
    "avg_show_comments = total_show_comments/len(show_posts)\n",
    "print(\"Average number of ASK comments is\", avg_ask_comments)\n",
    "print(\"Average number of SHOW comments is\", avg_show_comments)"
   ]
  },
  {
   "cell_type": "markdown",
   "metadata": {},
   "source": [
    "**In the previous cell, we have calculated the average number of comments of both types. It is evident that the average number of ASK comments is higher than the average number of SHOW comments.**\n",
    "\n",
    "Since ask posts are more likely to receive comments, we'll focus our remaining analysis just on these posts.\n",
    "\n",
    "Next, we'll determine if ask posts created at a certain time are more likely to attract comments. We'll use the following steps to perform this analysis:\n",
    "\n",
    "- Calculate the amount of ask posts created in each hour of the day, along with the number of comments received.\n",
    "- Calculate the average number of comments ask posts receive by hour created."
   ]
  },
  {
   "cell_type": "code",
   "execution_count": 4,
   "metadata": {
    "scrolled": true
   },
   "outputs": [
    {
     "name": "stdout",
     "output_type": "stream",
     "text": [
      "{'02': 269, '01': 282, '22': 383, '21': 518, '19': 552, '17': 587, '15': 646, '14': 513, '13': 444, '11': 312, '10': 282, '09': 222, '07': 226, '03': 271, '23': 343, '20': 510, '16': 579, '08': 257, '00': 301, '18': 614, '12': 342, '04': 243, '06': 234, '05': 209}\n",
      "{'02': 2996, '01': 2089, '22': 3372, '21': 4500, '19': 3954, '17': 5547, '15': 18525, '14': 4972, '13': 7245, '11': 2797, '10': 3013, '09': 1477, '07': 1585, '03': 2154, '23': 2297, '20': 4462, '16': 4466, '08': 2362, '00': 2277, '18': 4877, '12': 4234, '04': 2360, '06': 1587, '05': 1838}\n"
     ]
    }
   ],
   "source": [
    "import datetime as dt\n",
    "result_lists = []\n",
    "\n",
    "for post in asks_posts:\n",
    "    date = post[6]\n",
    "    num_comments = int(post[4])\n",
    "    result_lists.append([date, num_comments])\n",
    "counts_by_hour = {}\n",
    "comments_by_hour = {}\n",
    "for result in result_lists:\n",
    "    date = result[0]\n",
    "    num_comments = result[1]\n",
    "    date_object = dt.datetime.strptime(date, \"%m/%d/%Y %H:%M\")\n",
    "    hour = date_object.strftime(\"%H\")\n",
    "    if hour in counts_by_hour:\n",
    "        counts_by_hour[hour] += 1\n",
    "        comments_by_hour[hour] += num_comments\n",
    "    else:\n",
    "        counts_by_hour[hour] = 1\n",
    "        comments_by_hour[hour] = num_comments\n",
    "\n",
    "print(counts_by_hour)\n",
    "print(comments_by_hour)"
   ]
  },
  {
   "cell_type": "markdown",
   "metadata": {},
   "source": [
    "**We have calculated the number of hours and the number of comments written on these hours. Next we will find the average number of comments by hour**"
   ]
  },
  {
   "cell_type": "code",
   "execution_count": 5,
   "metadata": {},
   "outputs": [
    {
     "name": "stdout",
     "output_type": "stream",
     "text": [
      "[['00', 7.5647840531561465], ['01', 7.407801418439717], ['02', 11.137546468401487], ['03', 7.948339483394834], ['04', 9.7119341563786], ['05', 8.794258373205741], ['06', 6.782051282051282], ['07', 7.013274336283186], ['08', 9.190661478599221], ['09', 6.653153153153153], ['10', 10.684397163120567], ['11', 8.96474358974359], ['12', 12.380116959064328], ['13', 16.31756756756757], ['14', 9.692007797270955], ['15', 28.676470588235293], ['16', 7.713298791018998], ['17', 9.449744463373083], ['18', 7.94299674267101], ['19', 7.163043478260869], ['20', 8.749019607843136], ['21', 8.687258687258687], ['22', 8.804177545691905], ['23', 6.696793002915452]]\n"
     ]
    }
   ],
   "source": [
    "result = []\n",
    "for hour in counts_by_hour:\n",
    "    avg_comments_by_hour = comments_by_hour[hour]/counts_by_hour[hour]\n",
    "    result.append([hour, avg_comments_by_hour])\n",
    "print(sorted(result))"
   ]
  },
  {
   "cell_type": "code",
   "execution_count": 6,
   "metadata": {
    "scrolled": true
   },
   "outputs": [
    {
     "name": "stdout",
     "output_type": "stream",
     "text": [
      "[[11.137546468401487, '02'], [7.407801418439717, '01'], [8.804177545691905, '22'], [8.687258687258687, '21'], [7.163043478260869, '19'], [9.449744463373083, '17'], [28.676470588235293, '15'], [9.692007797270955, '14'], [16.31756756756757, '13'], [8.96474358974359, '11'], [10.684397163120567, '10'], [6.653153153153153, '09'], [7.013274336283186, '07'], [7.948339483394834, '03'], [6.696793002915452, '23'], [8.749019607843136, '20'], [7.713298791018998, '16'], [9.190661478599221, '08'], [7.5647840531561465, '00'], [7.94299674267101, '18'], [12.380116959064328, '12'], [9.7119341563786, '04'], [6.782051282051282, '06'], [8.794258373205741, '05']]\n"
     ]
    }
   ],
   "source": [
    "swap_avg_by_hour = []\n",
    "for res in result:\n",
    "    swapped = [res[1], res[0]]\n",
    "    swap_avg_by_hour.append(swapped)\n",
    "print(swap_avg_by_hour)"
   ]
  },
  {
   "cell_type": "code",
   "execution_count": 7,
   "metadata": {
    "scrolled": true
   },
   "outputs": [
    {
     "name": "stdout",
     "output_type": "stream",
     "text": [
      "[[28.676470588235293, '15'], [16.31756756756757, '13'], [12.380116959064328, '12'], [11.137546468401487, '02'], [10.684397163120567, '10']]\n"
     ]
    }
   ],
   "source": [
    "sorted_swap = sorted(swap_avg_by_hour, reverse = True)\n",
    "print(sorted_swap[:5])"
   ]
  },
  {
   "cell_type": "code",
   "execution_count": 8,
   "metadata": {},
   "outputs": [
    {
     "name": "stdout",
     "output_type": "stream",
     "text": [
      "15:00: 28.68 average comments per post\n",
      "13:00: 16.32 average comments per post\n",
      "12:00: 12.38 average comments per post\n",
      "02:00: 11.14 average comments per post\n",
      "10:00: 10.68 average comments per post\n",
      "04:00: 9.71 average comments per post\n",
      "14:00: 9.69 average comments per post\n",
      "17:00: 9.45 average comments per post\n",
      "08:00: 9.19 average comments per post\n",
      "11:00: 8.96 average comments per post\n",
      "22:00: 8.80 average comments per post\n",
      "05:00: 8.79 average comments per post\n",
      "20:00: 8.75 average comments per post\n",
      "21:00: 8.69 average comments per post\n",
      "03:00: 7.95 average comments per post\n",
      "18:00: 7.94 average comments per post\n",
      "16:00: 7.71 average comments per post\n",
      "00:00: 7.56 average comments per post\n",
      "01:00: 7.41 average comments per post\n",
      "19:00: 7.16 average comments per post\n",
      "07:00: 7.01 average comments per post\n",
      "06:00: 6.78 average comments per post\n",
      "23:00: 6.70 average comments per post\n",
      "09:00: 6.65 average comments per post\n"
     ]
    }
   ],
   "source": [
    "for avg, hour in sorted_swap:\n",
    "    date_pattern = \"%H\"\n",
    "    date_object = dt.datetime.strptime(hour, date_pattern)\n",
    "    hour_final = date_object.strftime(\"%H:%S\")\n",
    "    str_pattern = \"{hour}: {average:.2f} average comments per post\"\n",
    "    print(str_pattern.format(hour=hour_final, average=avg))"
   ]
  },
  {
   "cell_type": "markdown",
   "metadata": {},
   "source": [
    "## The goal is achieved.\n",
    "**We found out the time of the day (ASK comments) that receives the heighest average number of comments**\n",
    "\n",
    "However, we will boarden our goals and:\n",
    "- Determine if show or ask posts receive more points on average.\n",
    "- Determine if posts created at a certain time are more likely to receive more points.\n",
    "- Compare your results to the average number of comments and points other posts receive."
   ]
  },
  {
   "cell_type": "code",
   "execution_count": 9,
   "metadata": {},
   "outputs": [],
   "source": [
    "ask_points = 0\n",
    "show_points = 0\n",
    "for row in asks_posts:\n",
    "    num_points = int(row[3])\n",
    "    ask_points += num_points\n",
    "for row in show_posts:\n",
    "    num_points = int(row[3])\n",
    "    show_points += num_points"
   ]
  },
  {
   "cell_type": "markdown",
   "metadata": {},
   "source": [
    "In the cell above, we have retrieved and appended points of ASK and SHOW posts to seperate variables\n",
    "Now, we are going to evaluate average number of points they receive"
   ]
  },
  {
   "cell_type": "code",
   "execution_count": 10,
   "metadata": {},
   "outputs": [
    {
     "name": "stdout",
     "output_type": "stream",
     "text": [
      "The average number points 11.31174089068826 of ASK posts\n",
      "The average number points 14.843571569206537 of SHOW posts\n"
     ]
    }
   ],
   "source": [
    "str_pattern = \"The average number points {number} of {topic} posts\"\n",
    "print(str_pattern.format(number=ask_points/len(asks_posts), topic=\"ASK\"))\n",
    "print(str_pattern.format(number=show_points/len(show_posts), topic=\"SHOW\"))"
   ]
  },
  {
   "cell_type": "markdown",
   "metadata": {},
   "source": [
    "Let's compare it with the values we have."
   ]
  },
  {
   "cell_type": "code",
   "execution_count": 11,
   "metadata": {},
   "outputs": [
    {
     "name": "stdout",
     "output_type": "stream",
     "text": [
      "Average number of ASK comments is 10.393478498741656\n",
      "Average number of SHOW comments is 4.886099625910612\n"
     ]
    }
   ],
   "source": [
    "print(\"Average number of ASK comments is\", avg_ask_comments)\n",
    "print(\"Average number of SHOW comments is\", avg_show_comments)"
   ]
  },
  {
   "cell_type": "markdown",
   "metadata": {},
   "source": [
    "**From these results, we can observe that even though, SHOW posts receive higher number of points in average it faces the lack of comments. At the same time, the average number of points of ASK posts is relatively lower than SHOW posts possess. However, the ASK posts receive considerably higher amount of comments as compared to the SHOW posts**\n",
    "\n",
    "Let's check if posts created at a certain time are more likely to receive more points. Since we are interested in both type of posts, the analysis will be given respectively."
   ]
  },
  {
   "cell_type": "code",
   "execution_count": 12,
   "metadata": {},
   "outputs": [
    {
     "name": "stdout",
     "output_type": "stream",
     "text": [
      "ASK points by hour: {'02': 2944, '01': 2662, '22': 3601, '21': 5042, '19': 4782, '17': 7155, '15': 13978, '14': 5390, '13': 7962, '11': 2856, '10': 3789, '09': 1763, '07': 2040, '03': 2539, '23': 2616, '20': 4491, '16': 5970, '08': 2744, '00': 2835, '18': 6850, '12': 4643, '04': 2650, '06': 2030, '05': 2046}\n",
      "\n",
      "\n",
      "ASK counts by hour: {'02': 269, '01': 282, '22': 383, '21': 518, '19': 552, '17': 587, '15': 646, '14': 513, '13': 444, '11': 312, '10': 282, '09': 222, '07': 226, '03': 271, '23': 343, '20': 510, '16': 579, '08': 257, '00': 301, '18': 614, '12': 342, '04': 243, '06': 234, '05': 209}\n",
      "\n",
      "\n",
      "SHOW points by hour: {'00': 4291, '23': 5060, '20': 6948, '19': 8928, '18': 9935, '16': 11487, '14': 10503, '10': 4303, '09': 3762, '08': 4640, '06': 3071, '03': 2168, '21': 5990, '17': 10563, '15': 11657, '11': 7742, '07': 3303, '04': 2707, '13': 10381, '12': 10787, '01': 2931, '22': 5026, '02': 2764, '05': 1834}\n",
      "\n",
      "\n",
      "SHOW counts by hour: {'00': 276, '23': 319, '20': 525, '19': 556, '18': 656, '16': 801, '14': 696, '10': 323, '09': 302, '08': 316, '06': 192, '03': 206, '21': 430, '17': 761, '15': 836, '11': 402, '07': 236, '04': 194, '13': 610, '12': 516, '01': 247, '22': 377, '02': 209, '05': 172}\n",
      "\n",
      "\n"
     ]
    }
   ],
   "source": [
    "ask_points_by_hour = {}\n",
    "ask_counts_by_hour = {} #even though, it is already available under the variable counts_by_hours, for better readability, we will find it one more time\n",
    "show_points_by_hour = {}\n",
    "show_counts_by_hour = {}\n",
    "for post in asks_posts:\n",
    "    date = post[6]\n",
    "    num_points = int(post[3])\n",
    "    date_object = dt.datetime.strptime(date, \"%m/%d/%Y %H:%M\")\n",
    "    hour = date_object.strftime(\"%H\")\n",
    "    if hour in ask_points_by_hour:\n",
    "        ask_points_by_hour[hour] += num_points\n",
    "        ask_counts_by_hour[hour] += 1\n",
    "    else:\n",
    "        ask_points_by_hour[hour] = num_points\n",
    "        ask_counts_by_hour[hour] = 1\n",
    "\n",
    "for post in show_posts:\n",
    "    date = post[6]\n",
    "    num_points = int(post[3])\n",
    "    date_object = dt.datetime.strptime(date, \"%m/%d/%Y %H:%M\")\n",
    "    hour = date_object.strftime(\"%H\")\n",
    "    if hour in show_points_by_hour:\n",
    "        show_points_by_hour[hour] += num_points\n",
    "        show_counts_by_hour[hour] += 1\n",
    "    else:\n",
    "        show_points_by_hour[hour] = num_points\n",
    "        show_counts_by_hour[hour] = 1\n",
    "print(\"ASK points by hour:\", ask_points_by_hour)\n",
    "print('\\n')\n",
    "print(\"ASK counts by hour:\", ask_counts_by_hour)\n",
    "print('\\n')\n",
    "print(\"SHOW points by hour:\", show_points_by_hour)\n",
    "print('\\n')\n",
    "print(\"SHOW counts by hour:\", show_counts_by_hour)\n",
    "print('\\n')"
   ]
  },
  {
   "cell_type": "markdown",
   "metadata": {},
   "source": [
    "In the cell above, we have found number of points received by various timelines. Now, we are going to examine the average number of points received by hours and find out at what time ASK and SHOW posts receive the highest number of points in average"
   ]
  },
  {
   "cell_type": "code",
   "execution_count": 13,
   "metadata": {},
   "outputs": [
    {
     "name": "stdout",
     "output_type": "stream",
     "text": [
      "ASK points by hour in average: [['02', 10.944237918215613], ['01', 9.439716312056738], ['22', 9.402088772845953], ['21', 9.733590733590734], ['19', 8.66304347826087], ['17', 12.189097103918229], ['15', 21.637770897832816], ['14', 10.50682261208577], ['13', 17.93243243243243], ['11', 9.153846153846153], ['10', 13.436170212765957], ['09', 7.941441441441442], ['07', 9.026548672566372], ['03', 9.3690036900369], ['23', 7.626822157434402], ['20', 8.805882352941177], ['16', 10.310880829015543], ['08', 10.67704280155642], ['00', 9.418604651162791], ['18', 11.156351791530945], ['12', 13.576023391812866], ['04', 10.905349794238683], ['06', 8.675213675213675], ['05', 9.789473684210526]]\n",
      "SHOW points by hour in average: [['00', 15.547101449275363], ['23', 15.862068965517242], ['20', 13.234285714285715], ['19', 16.057553956834532], ['18', 15.144817073170731], ['16', 14.340823970037453], ['14', 15.09051724137931], ['10', 13.321981424148607], ['09', 12.456953642384105], ['08', 14.683544303797468], ['06', 15.994791666666666], ['03', 10.524271844660195], ['21', 13.930232558139535], ['17', 13.88042049934297], ['15', 13.94377990430622], ['11', 19.258706467661693], ['07', 13.995762711864407], ['04', 13.95360824742268], ['13', 17.018032786885247], ['12', 20.905038759689923], ['01', 11.866396761133604], ['22', 13.331564986737401], ['02', 13.224880382775119], ['05', 10.662790697674419]]\n"
     ]
    }
   ],
   "source": [
    "result_ask_points = []\n",
    "result_show_points = []\n",
    "\n",
    "for hour in ask_points_by_hour:\n",
    "    avg_num_points = ask_points_by_hour[hour]/ask_counts_by_hour[hour]\n",
    "    result_ask_points.append([hour, avg_num_points])\n",
    "    \n",
    "for hour in show_points_by_hour:\n",
    "    avg_num_points = show_points_by_hour[hour]/show_counts_by_hour[hour]\n",
    "    result_show_points.append([hour, avg_num_points])\n",
    "print(\"ASK points by hour in average:\", result_ask_points)\n",
    "print(\"SHOW points by hour in average:\", result_show_points)"
   ]
  },
  {
   "cell_type": "markdown",
   "metadata": {},
   "source": [
    "Now, all the results are obtained. For better visualization, we need to sort the arrays in descending order and represent it accordingly"
   ]
  },
  {
   "cell_type": "code",
   "execution_count": 15,
   "metadata": {},
   "outputs": [],
   "source": [
    "swap_results_ask = []\n",
    "swap_results_show = []\n",
    "for result in result_ask_points:\n",
    "    swapped = [result[1], result[0]]\n",
    "    swap_results_ask.append(swapped)\n",
    "for result in result_show_points:\n",
    "    swapped = [result[1], result[0]]\n",
    "    swap_results_show.append(swapped)\n",
    "\n",
    "sorted_swap_results_ask = sorted(swap_results_ask, reverse=True)\n",
    "sorted_swap_results_show = sorted(swap_results_show, reverse=True)"
   ]
  },
  {
   "cell_type": "code",
   "execution_count": 21,
   "metadata": {
    "scrolled": true
   },
   "outputs": [
    {
     "name": "stdout",
     "output_type": "stream",
     "text": [
      "15:00: 21.64 points in average ASK receive\n",
      "13:00: 17.93 points in average ASK receive\n",
      "12:00: 13.58 points in average ASK receive\n",
      "10:00: 13.44 points in average ASK receive\n",
      "17:00: 12.19 points in average ASK receive\n",
      "18:00: 11.16 points in average ASK receive\n",
      "02:00: 10.94 points in average ASK receive\n",
      "04:00: 10.91 points in average ASK receive\n",
      "08:00: 10.68 points in average ASK receive\n",
      "14:00: 10.51 points in average ASK receive\n",
      "16:00: 10.31 points in average ASK receive\n",
      "05:00: 9.79 points in average ASK receive\n",
      "21:00: 9.73 points in average ASK receive\n",
      "01:00: 9.44 points in average ASK receive\n",
      "00:00: 9.42 points in average ASK receive\n",
      "22:00: 9.40 points in average ASK receive\n",
      "03:00: 9.37 points in average ASK receive\n",
      "11:00: 9.15 points in average ASK receive\n",
      "07:00: 9.03 points in average ASK receive\n",
      "20:00: 8.81 points in average ASK receive\n",
      "06:00: 8.68 points in average ASK receive\n",
      "19:00: 8.66 points in average ASK receive\n",
      "09:00: 7.94 points in average ASK receive\n",
      "23:00: 7.63 points in average ASK receive\n"
     ]
    }
   ],
   "source": [
    "for point, hour in sorted_swap_results_ask:\n",
    "    date_pattern = \"%H\"\n",
    "    date_object = dt.datetime.strptime(hour, date_pattern)\n",
    "    hour_result = date_object.strftime(\"%H:%S\")\n",
    "    str_pattern = \"{time}: {points:.2f} points in average {posts} receive\"\n",
    "    print(str_pattern.format(time=hour_result, points=point, posts=\"ASK\"))"
   ]
  },
  {
   "cell_type": "code",
   "execution_count": 22,
   "metadata": {},
   "outputs": [
    {
     "name": "stdout",
     "output_type": "stream",
     "text": [
      "12:00: 20.91 points in average SHOW receive\n",
      "11:00: 19.26 points in average SHOW receive\n",
      "13:00: 17.02 points in average SHOW receive\n",
      "19:00: 16.06 points in average SHOW receive\n",
      "06:00: 15.99 points in average SHOW receive\n",
      "23:00: 15.86 points in average SHOW receive\n",
      "00:00: 15.55 points in average SHOW receive\n",
      "18:00: 15.14 points in average SHOW receive\n",
      "14:00: 15.09 points in average SHOW receive\n",
      "08:00: 14.68 points in average SHOW receive\n",
      "16:00: 14.34 points in average SHOW receive\n",
      "07:00: 14.00 points in average SHOW receive\n",
      "04:00: 13.95 points in average SHOW receive\n",
      "15:00: 13.94 points in average SHOW receive\n",
      "21:00: 13.93 points in average SHOW receive\n",
      "17:00: 13.88 points in average SHOW receive\n",
      "22:00: 13.33 points in average SHOW receive\n",
      "10:00: 13.32 points in average SHOW receive\n",
      "20:00: 13.23 points in average SHOW receive\n",
      "02:00: 13.22 points in average SHOW receive\n",
      "09:00: 12.46 points in average SHOW receive\n",
      "01:00: 11.87 points in average SHOW receive\n",
      "05:00: 10.66 points in average SHOW receive\n",
      "03:00: 10.52 points in average SHOW receive\n"
     ]
    }
   ],
   "source": [
    "for point, hour in sorted_swap_results_show:\n",
    "    date_pattern = \"%H\"\n",
    "    date_object = dt.datetime.strptime(hour, date_pattern)\n",
    "    hour_result = date_object.strftime(\"%H:%S\")\n",
    "    str_pattern = \"{time}: {points:.2f} points in average {posts} receive\"\n",
    "    print(str_pattern.format(time=hour_result, points=point, posts=\"SHOW\"))"
   ]
  },
  {
   "cell_type": "markdown",
   "metadata": {},
   "source": [
    "**According to the results above, the ASK posts are more likely to get more points at 15:00. This time is identical to the same time when it is more likely to get more comments.\n",
    "However, the SHOW posts get more points in average as it was mentioned before.**"
   ]
  },
  {
   "cell_type": "markdown",
   "metadata": {},
   "source": [
    "# In conclusion\n",
    "\n",
    "The ASK posts get higher number of comments as compared to the SHOW posts, however it get lower number of points. In average, the SHOW posts get 14.84 points per post while ASK posts get 11.31 points per post. For SHOW posts, the period between 11:00 and 12:00 hours is determined as a peak for receiving points. Similarly, the peak for ASK posts lies between 13:00 and 15:00."
   ]
  }
 ],
 "metadata": {
  "kernelspec": {
   "display_name": "Python 3",
   "language": "python",
   "name": "python3"
  },
  "language_info": {
   "codemirror_mode": {
    "name": "ipython",
    "version": 3
   },
   "file_extension": ".py",
   "mimetype": "text/x-python",
   "name": "python",
   "nbconvert_exporter": "python",
   "pygments_lexer": "ipython3",
   "version": "3.7.3"
  }
 },
 "nbformat": 4,
 "nbformat_minor": 2
}
